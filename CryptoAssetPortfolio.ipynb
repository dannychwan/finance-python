{
 "cells": [
  {
   "cell_type": "markdown",
   "metadata": {},
   "source": [
    "# Crypto Asset Portfolio"
   ]
  },
  {
   "cell_type": "code",
   "execution_count": 54,
   "metadata": {},
   "outputs": [
    {
     "name": "stdout",
     "output_type": "stream",
     "text": [
      "The autoreload extension is already loaded. To reload it, use:\n",
      "  %reload_ext autoreload\n"
     ]
    }
   ],
   "source": [
    "%load_ext autoreload\n",
    "%autoreload 2\n",
    "\n",
    "import pandas as pd\n",
    "import numpy as np\n",
    "import yfinance as yf\n",
    "from yahoofinancials import YahooFinancials\n",
    "from datetime import datetime, timedelta\n",
    "from dateutil.relativedelta import relativedelta\n",
    "import json"
   ]
  },
  {
   "cell_type": "code",
   "execution_count": 151,
   "metadata": {},
   "outputs": [
    {
     "name": "stdout",
     "output_type": "stream",
     "text": [
      "[*********************100%***********************]  4 of 4 completed\n"
     ]
    }
   ],
   "source": [
    "start_date = '2019-11-01'\n",
    "end_date = '2020-11-01'\n",
    "\n",
    "crypto_df = yf.download('BTC-USD ETH-USD ADA-USD LTC-USD', \n",
    "                      start=start_date, \n",
    "                      end=end_date, \n",
    "            \n",
    "                       auto_adjust=True)"
   ]
  },
  {
   "cell_type": "code",
   "execution_count": 152,
   "metadata": {},
   "outputs": [
    {
     "data": {
      "text/html": [
       "<div>\n",
       "<style scoped>\n",
       "    .dataframe tbody tr th:only-of-type {\n",
       "        vertical-align: middle;\n",
       "    }\n",
       "\n",
       "    .dataframe tbody tr th {\n",
       "        vertical-align: top;\n",
       "    }\n",
       "\n",
       "    .dataframe thead tr th {\n",
       "        text-align: left;\n",
       "    }\n",
       "\n",
       "    .dataframe thead tr:last-of-type th {\n",
       "        text-align: right;\n",
       "    }\n",
       "</style>\n",
       "<table border=\"1\" class=\"dataframe\">\n",
       "  <thead>\n",
       "    <tr>\n",
       "      <th></th>\n",
       "      <th colspan=\"4\" halign=\"left\">Close</th>\n",
       "      <th colspan=\"4\" halign=\"left\">High</th>\n",
       "      <th colspan=\"4\" halign=\"left\">Low</th>\n",
       "      <th colspan=\"4\" halign=\"left\">Open</th>\n",
       "      <th colspan=\"4\" halign=\"left\">Volume</th>\n",
       "    </tr>\n",
       "    <tr>\n",
       "      <th></th>\n",
       "      <th>ADA-USD</th>\n",
       "      <th>BTC-USD</th>\n",
       "      <th>ETH-USD</th>\n",
       "      <th>LTC-USD</th>\n",
       "      <th>ADA-USD</th>\n",
       "      <th>BTC-USD</th>\n",
       "      <th>ETH-USD</th>\n",
       "      <th>LTC-USD</th>\n",
       "      <th>ADA-USD</th>\n",
       "      <th>BTC-USD</th>\n",
       "      <th>ETH-USD</th>\n",
       "      <th>LTC-USD</th>\n",
       "      <th>ADA-USD</th>\n",
       "      <th>BTC-USD</th>\n",
       "      <th>ETH-USD</th>\n",
       "      <th>LTC-USD</th>\n",
       "      <th>ADA-USD</th>\n",
       "      <th>BTC-USD</th>\n",
       "      <th>ETH-USD</th>\n",
       "      <th>LTC-USD</th>\n",
       "    </tr>\n",
       "    <tr>\n",
       "      <th>Date</th>\n",
       "      <th></th>\n",
       "      <th></th>\n",
       "      <th></th>\n",
       "      <th></th>\n",
       "      <th></th>\n",
       "      <th></th>\n",
       "      <th></th>\n",
       "      <th></th>\n",
       "      <th></th>\n",
       "      <th></th>\n",
       "      <th></th>\n",
       "      <th></th>\n",
       "      <th></th>\n",
       "      <th></th>\n",
       "      <th></th>\n",
       "      <th></th>\n",
       "      <th></th>\n",
       "      <th></th>\n",
       "      <th></th>\n",
       "      <th></th>\n",
       "    </tr>\n",
       "  </thead>\n",
       "  <tbody>\n",
       "    <tr>\n",
       "      <th>2019-10-31</th>\n",
       "      <td>0.041636</td>\n",
       "      <td>9199.584961</td>\n",
       "      <td>183.966919</td>\n",
       "      <td>58.780685</td>\n",
       "      <td>0.042792</td>\n",
       "      <td>9383.161133</td>\n",
       "      <td>188.751266</td>\n",
       "      <td>60.081844</td>\n",
       "      <td>0.040456</td>\n",
       "      <td>9028.717773</td>\n",
       "      <td>180.068359</td>\n",
       "      <td>57.692127</td>\n",
       "      <td>0.041963</td>\n",
       "      <td>9202.458008</td>\n",
       "      <td>184.797623</td>\n",
       "      <td>58.363445</td>\n",
       "      <td>65333067</td>\n",
       "      <td>26583653947</td>\n",
       "      <td>9607939606</td>\n",
       "      <td>3165801278</td>\n",
       "    </tr>\n",
       "    <tr>\n",
       "      <th>2019-11-01</th>\n",
       "      <td>0.042345</td>\n",
       "      <td>9261.104492</td>\n",
       "      <td>183.969894</td>\n",
       "      <td>58.583645</td>\n",
       "      <td>0.042858</td>\n",
       "      <td>9275.657227</td>\n",
       "      <td>185.059708</td>\n",
       "      <td>58.751560</td>\n",
       "      <td>0.041240</td>\n",
       "      <td>9132.047852</td>\n",
       "      <td>181.094498</td>\n",
       "      <td>57.719109</td>\n",
       "      <td>0.041645</td>\n",
       "      <td>9193.992188</td>\n",
       "      <td>183.803696</td>\n",
       "      <td>58.746315</td>\n",
       "      <td>60880837</td>\n",
       "      <td>24324691031</td>\n",
       "      <td>9145611130</td>\n",
       "      <td>3425154368</td>\n",
       "    </tr>\n",
       "    <tr>\n",
       "      <th>2019-11-02</th>\n",
       "      <td>0.042599</td>\n",
       "      <td>9324.717773</td>\n",
       "      <td>183.925720</td>\n",
       "      <td>58.597027</td>\n",
       "      <td>0.042745</td>\n",
       "      <td>9377.486328</td>\n",
       "      <td>185.708954</td>\n",
       "      <td>59.334785</td>\n",
       "      <td>0.042069</td>\n",
       "      <td>9249.587891</td>\n",
       "      <td>182.797668</td>\n",
       "      <td>58.219505</td>\n",
       "      <td>0.042336</td>\n",
       "      <td>9259.783203</td>\n",
       "      <td>184.018158</td>\n",
       "      <td>58.579086</td>\n",
       "      <td>47127524</td>\n",
       "      <td>21242676385</td>\n",
       "      <td>8087991830</td>\n",
       "      <td>3353942166</td>\n",
       "    </tr>\n",
       "    <tr>\n",
       "      <th>2019-11-03</th>\n",
       "      <td>0.041930</td>\n",
       "      <td>9235.354492</td>\n",
       "      <td>182.425018</td>\n",
       "      <td>58.625191</td>\n",
       "      <td>0.042684</td>\n",
       "      <td>9379.806641</td>\n",
       "      <td>185.024216</td>\n",
       "      <td>58.966866</td>\n",
       "      <td>0.041358</td>\n",
       "      <td>9141.251953</td>\n",
       "      <td>179.818146</td>\n",
       "      <td>57.641125</td>\n",
       "      <td>0.042581</td>\n",
       "      <td>9324.787109</td>\n",
       "      <td>183.994827</td>\n",
       "      <td>58.592102</td>\n",
       "      <td>38559537</td>\n",
       "      <td>21132220847</td>\n",
       "      <td>8760247744</td>\n",
       "      <td>3259935586</td>\n",
       "    </tr>\n",
       "    <tr>\n",
       "      <th>2019-11-04</th>\n",
       "      <td>0.043236</td>\n",
       "      <td>9412.612305</td>\n",
       "      <td>186.355194</td>\n",
       "      <td>61.573055</td>\n",
       "      <td>0.043257</td>\n",
       "      <td>9505.051758</td>\n",
       "      <td>188.022934</td>\n",
       "      <td>62.176826</td>\n",
       "      <td>0.041607</td>\n",
       "      <td>9191.485352</td>\n",
       "      <td>181.821609</td>\n",
       "      <td>58.383060</td>\n",
       "      <td>0.041889</td>\n",
       "      <td>9235.607422</td>\n",
       "      <td>182.319031</td>\n",
       "      <td>58.595737</td>\n",
       "      <td>62120503</td>\n",
       "      <td>26170255634</td>\n",
       "      <td>10551917945</td>\n",
       "      <td>4164854559</td>\n",
       "    </tr>\n",
       "  </tbody>\n",
       "</table>\n",
       "</div>"
      ],
      "text/plain": [
       "               Close                                          High  \\\n",
       "             ADA-USD      BTC-USD     ETH-USD    LTC-USD   ADA-USD   \n",
       "Date                                                                 \n",
       "2019-10-31  0.041636  9199.584961  183.966919  58.780685  0.042792   \n",
       "2019-11-01  0.042345  9261.104492  183.969894  58.583645  0.042858   \n",
       "2019-11-02  0.042599  9324.717773  183.925720  58.597027  0.042745   \n",
       "2019-11-03  0.041930  9235.354492  182.425018  58.625191  0.042684   \n",
       "2019-11-04  0.043236  9412.612305  186.355194  61.573055  0.043257   \n",
       "\n",
       "                                                     Low               \\\n",
       "                BTC-USD     ETH-USD    LTC-USD   ADA-USD      BTC-USD   \n",
       "Date                                                                    \n",
       "2019-10-31  9383.161133  188.751266  60.081844  0.040456  9028.717773   \n",
       "2019-11-01  9275.657227  185.059708  58.751560  0.041240  9132.047852   \n",
       "2019-11-02  9377.486328  185.708954  59.334785  0.042069  9249.587891   \n",
       "2019-11-03  9379.806641  185.024216  58.966866  0.041358  9141.251953   \n",
       "2019-11-04  9505.051758  188.022934  62.176826  0.041607  9191.485352   \n",
       "\n",
       "                                       Open                           \\\n",
       "               ETH-USD    LTC-USD   ADA-USD      BTC-USD     ETH-USD   \n",
       "Date                                                                   \n",
       "2019-10-31  180.068359  57.692127  0.041963  9202.458008  184.797623   \n",
       "2019-11-01  181.094498  57.719109  0.041645  9193.992188  183.803696   \n",
       "2019-11-02  182.797668  58.219505  0.042336  9259.783203  184.018158   \n",
       "2019-11-03  179.818146  57.641125  0.042581  9324.787109  183.994827   \n",
       "2019-11-04  181.821609  58.383060  0.041889  9235.607422  182.319031   \n",
       "\n",
       "                         Volume                                        \n",
       "              LTC-USD   ADA-USD      BTC-USD      ETH-USD     LTC-USD  \n",
       "Date                                                                   \n",
       "2019-10-31  58.363445  65333067  26583653947   9607939606  3165801278  \n",
       "2019-11-01  58.746315  60880837  24324691031   9145611130  3425154368  \n",
       "2019-11-02  58.579086  47127524  21242676385   8087991830  3353942166  \n",
       "2019-11-03  58.592102  38559537  21132220847   8760247744  3259935586  \n",
       "2019-11-04  58.595737  62120503  26170255634  10551917945  4164854559  "
      ]
     },
     "execution_count": 152,
     "metadata": {},
     "output_type": "execute_result"
    }
   ],
   "source": [
    "crypto_df.head()"
   ]
  },
  {
   "cell_type": "code",
   "execution_count": 153,
   "metadata": {},
   "outputs": [],
   "source": [
    "crypto_df = crypto_df.drop(columns=['Open', 'Volume', 'High', 'Low'])\n",
    "crypto_df.columns = crypto_df.columns.droplevel()"
   ]
  },
  {
   "cell_type": "code",
   "execution_count": 154,
   "metadata": {},
   "outputs": [
    {
     "data": {
      "text/html": [
       "<div>\n",
       "<style scoped>\n",
       "    .dataframe tbody tr th:only-of-type {\n",
       "        vertical-align: middle;\n",
       "    }\n",
       "\n",
       "    .dataframe tbody tr th {\n",
       "        vertical-align: top;\n",
       "    }\n",
       "\n",
       "    .dataframe thead th {\n",
       "        text-align: right;\n",
       "    }\n",
       "</style>\n",
       "<table border=\"1\" class=\"dataframe\">\n",
       "  <thead>\n",
       "    <tr style=\"text-align: right;\">\n",
       "      <th></th>\n",
       "      <th>ADA-USD</th>\n",
       "      <th>BTC-USD</th>\n",
       "      <th>ETH-USD</th>\n",
       "      <th>LTC-USD</th>\n",
       "    </tr>\n",
       "    <tr>\n",
       "      <th>Date</th>\n",
       "      <th></th>\n",
       "      <th></th>\n",
       "      <th></th>\n",
       "      <th></th>\n",
       "    </tr>\n",
       "  </thead>\n",
       "  <tbody>\n",
       "    <tr>\n",
       "      <th>2019-10-31</th>\n",
       "      <td>0.041636</td>\n",
       "      <td>9199.584961</td>\n",
       "      <td>183.966919</td>\n",
       "      <td>58.780685</td>\n",
       "    </tr>\n",
       "    <tr>\n",
       "      <th>2019-11-01</th>\n",
       "      <td>0.042345</td>\n",
       "      <td>9261.104492</td>\n",
       "      <td>183.969894</td>\n",
       "      <td>58.583645</td>\n",
       "    </tr>\n",
       "    <tr>\n",
       "      <th>2019-11-02</th>\n",
       "      <td>0.042599</td>\n",
       "      <td>9324.717773</td>\n",
       "      <td>183.925720</td>\n",
       "      <td>58.597027</td>\n",
       "    </tr>\n",
       "    <tr>\n",
       "      <th>2019-11-03</th>\n",
       "      <td>0.041930</td>\n",
       "      <td>9235.354492</td>\n",
       "      <td>182.425018</td>\n",
       "      <td>58.625191</td>\n",
       "    </tr>\n",
       "    <tr>\n",
       "      <th>2019-11-04</th>\n",
       "      <td>0.043236</td>\n",
       "      <td>9412.612305</td>\n",
       "      <td>186.355194</td>\n",
       "      <td>61.573055</td>\n",
       "    </tr>\n",
       "  </tbody>\n",
       "</table>\n",
       "</div>"
      ],
      "text/plain": [
       "             ADA-USD      BTC-USD     ETH-USD    LTC-USD\n",
       "Date                                                    \n",
       "2019-10-31  0.041636  9199.584961  183.966919  58.780685\n",
       "2019-11-01  0.042345  9261.104492  183.969894  58.583645\n",
       "2019-11-02  0.042599  9324.717773  183.925720  58.597027\n",
       "2019-11-03  0.041930  9235.354492  182.425018  58.625191\n",
       "2019-11-04  0.043236  9412.612305  186.355194  61.573055"
      ]
     },
     "execution_count": 154,
     "metadata": {},
     "output_type": "execute_result"
    }
   ],
   "source": [
    "crypto_df.head()"
   ]
  },
  {
   "cell_type": "code",
   "execution_count": 155,
   "metadata": {},
   "outputs": [],
   "source": [
    "crypto_df.index = pd.to_datetime(crypto_df.index)"
   ]
  },
  {
   "cell_type": "code",
   "execution_count": 156,
   "metadata": {},
   "outputs": [
    {
     "data": {
      "text/plain": [
       "'2019-11-01'"
      ]
     },
     "execution_count": 156,
     "metadata": {},
     "output_type": "execute_result"
    }
   ],
   "source": [
    "start_date"
   ]
  },
  {
   "cell_type": "code",
   "execution_count": 157,
   "metadata": {},
   "outputs": [],
   "source": [
    "reset_start = datetime.strptime(start_date, '%Y-%m-%d')\n",
    "reset_end = datetime.strptime(end_date, '%Y-%m-%d') - timedelta(days=1)"
   ]
  },
  {
   "cell_type": "code",
   "execution_count": null,
   "metadata": {},
   "outputs": [],
   "source": [
    "\n"
   ]
  },
  {
   "cell_type": "code",
   "execution_count": null,
   "metadata": {},
   "outputs": [],
   "source": []
  },
  {
   "cell_type": "code",
   "execution_count": 158,
   "metadata": {},
   "outputs": [],
   "source": [
    "#Caluclate if 25% lump sum investment, what the return would be\n",
    "\n",
    "\n",
    "crypto_lump_prices = pd.DataFrame(crypto_df.loc[reset_start, :])\n",
    "end_prices = crypto_df.loc[reset_end, :].values\n",
    "crypto_lump_prices[reset_end] = end_prices\n",
    "crypto_lump_prices.columns = pd.to_datetime(crypto_lump_prices.columns)\n",
    "\n",
    "\n",
    "#calculate holdings based on starting_investment\n",
    "#create dataframe on holdings\n"
   ]
  },
  {
   "cell_type": "code",
   "execution_count": 159,
   "metadata": {},
   "outputs": [
    {
     "data": {
      "text/html": [
       "<div>\n",
       "<style scoped>\n",
       "    .dataframe tbody tr th:only-of-type {\n",
       "        vertical-align: middle;\n",
       "    }\n",
       "\n",
       "    .dataframe tbody tr th {\n",
       "        vertical-align: top;\n",
       "    }\n",
       "\n",
       "    .dataframe thead th {\n",
       "        text-align: right;\n",
       "    }\n",
       "</style>\n",
       "<table border=\"1\" class=\"dataframe\">\n",
       "  <thead>\n",
       "    <tr style=\"text-align: right;\">\n",
       "      <th></th>\n",
       "      <th>2019-11-01</th>\n",
       "      <th>2020-10-31</th>\n",
       "    </tr>\n",
       "  </thead>\n",
       "  <tbody>\n",
       "    <tr>\n",
       "      <th>ADA-USD</th>\n",
       "      <td>0.042345</td>\n",
       "      <td>0.093056</td>\n",
       "    </tr>\n",
       "    <tr>\n",
       "      <th>BTC-USD</th>\n",
       "      <td>9261.104492</td>\n",
       "      <td>13780.995117</td>\n",
       "    </tr>\n",
       "    <tr>\n",
       "      <th>ETH-USD</th>\n",
       "      <td>183.969894</td>\n",
       "      <td>386.590332</td>\n",
       "    </tr>\n",
       "    <tr>\n",
       "      <th>LTC-USD</th>\n",
       "      <td>58.583645</td>\n",
       "      <td>55.590260</td>\n",
       "    </tr>\n",
       "  </tbody>\n",
       "</table>\n",
       "</div>"
      ],
      "text/plain": [
       "          2019-11-01    2020-10-31\n",
       "ADA-USD     0.042345      0.093056\n",
       "BTC-USD  9261.104492  13780.995117\n",
       "ETH-USD   183.969894    386.590332\n",
       "LTC-USD    58.583645     55.590260"
      ]
     },
     "execution_count": 159,
     "metadata": {},
     "output_type": "execute_result"
    }
   ],
   "source": [
    "crypto_lump_prices"
   ]
  },
  {
   "cell_type": "code",
   "execution_count": 160,
   "metadata": {},
   "outputs": [],
   "source": [
    "#create holdings dataframe * 250\n",
    "start_holdings = 300 / crypto_lump_prices[reset_start]\n",
    "end_value = start_holdings * crypto_lump_prices[reset_end]\n",
    "\n",
    "\n",
    "holdings_df= pd.DataFrame(index=crypto_lump_prices.index)\n",
    "holdings_df['Crypto Holdings'] = start_holdings\n",
    "\n",
    "value_df= pd.DataFrame(index=crypto_lump_prices.index)\n",
    "value_df['Start Value'] = [300,300,300,300]\n",
    "value_df['End Value'] = end_value\n",
    "value_df['P/L'] = end_value\n",
    "value_df['P/L %'] =(((value_df['End Value']-value_df['Start Value'])/value_df['Start Value'])*100).round(2)"
   ]
  },
  {
   "cell_type": "code",
   "execution_count": 161,
   "metadata": {},
   "outputs": [
    {
     "data": {
      "text/plain": [
       "2020.7702795543064"
      ]
     },
     "execution_count": 161,
     "metadata": {},
     "output_type": "execute_result"
    }
   ],
   "source": [
    "value_df['P/L'].sum()"
   ]
  },
  {
   "cell_type": "code",
   "execution_count": 172,
   "metadata": {},
   "outputs": [
    {
     "data": {
      "text/plain": [
       "['2019-11-01',\n",
       " '2019-12-01',\n",
       " '2020-01-01',\n",
       " '2020-02-01',\n",
       " '2020-03-01',\n",
       " '2020-04-01',\n",
       " '2020-05-01',\n",
       " '2020-06-01',\n",
       " '2020-07-01',\n",
       " '2020-08-01',\n",
       " '2020-09-01',\n",
       " '2020-10-01']"
      ]
     },
     "execution_count": 172,
     "metadata": {},
     "output_type": "execute_result"
    }
   ],
   "source": [
    "# Dollar cost averageing\n",
    "# 100 dollars per month on the start of each month\n",
    "# 25 dollars in each crypto, no rebalancing\n",
    "\n",
    "dca_start_monthly = 100\n",
    "\n",
    "date1 = start_date  # input start date\n",
    "date2 = end_date  # input end date\n",
    "\n",
    "month_list = [i.strftime(\"%Y-%m-%d\") for i in pd.date_range(start=reset_start, end=reset_end, freq='MS')]\n",
    "\n",
    "\n",
    "dca_prices_df = crypto_df.loc[month_list, :]\n",
    "\n",
    "dca_purchases_df = 25 / dca_prices_df \n",
    "\n",
    "#subset_prices = crypto_df['2020-01-01']\n",
    "\n",
    "#dca_holdings = ((dca_start_monthly/4) / crypto_lump['2020-01-01'])\n",
    "\n",
    "month_list"
   ]
  },
  {
   "cell_type": "code",
   "execution_count": 163,
   "metadata": {},
   "outputs": [],
   "source": [
    "total_dca_holdings = dca_purchases_df.sum()"
   ]
  },
  {
   "cell_type": "code",
   "execution_count": 164,
   "metadata": {},
   "outputs": [],
   "source": [
    "dca_end_value = total_dca_holdings * dca_prices_df.tail(1)"
   ]
  },
  {
   "cell_type": "code",
   "execution_count": 165,
   "metadata": {},
   "outputs": [
    {
     "data": {
      "text/html": [
       "<div>\n",
       "<style scoped>\n",
       "    .dataframe tbody tr th:only-of-type {\n",
       "        vertical-align: middle;\n",
       "    }\n",
       "\n",
       "    .dataframe tbody tr th {\n",
       "        vertical-align: top;\n",
       "    }\n",
       "\n",
       "    .dataframe thead th {\n",
       "        text-align: right;\n",
       "    }\n",
       "</style>\n",
       "<table border=\"1\" class=\"dataframe\">\n",
       "  <thead>\n",
       "    <tr style=\"text-align: right;\">\n",
       "      <th></th>\n",
       "      <th>ADA-USD</th>\n",
       "      <th>BTC-USD</th>\n",
       "      <th>ETH-USD</th>\n",
       "      <th>LTC-USD</th>\n",
       "    </tr>\n",
       "    <tr>\n",
       "      <th>Date</th>\n",
       "      <th></th>\n",
       "      <th></th>\n",
       "      <th></th>\n",
       "      <th></th>\n",
       "    </tr>\n",
       "  </thead>\n",
       "  <tbody>\n",
       "    <tr>\n",
       "      <th>2020-10-01</th>\n",
       "      <td>533.87375</td>\n",
       "      <td>355.456779</td>\n",
       "      <td>509.060935</td>\n",
       "      <td>275.505574</td>\n",
       "    </tr>\n",
       "  </tbody>\n",
       "</table>\n",
       "</div>"
      ],
      "text/plain": [
       "              ADA-USD     BTC-USD     ETH-USD     LTC-USD\n",
       "Date                                                     \n",
       "2020-10-01  533.87375  355.456779  509.060935  275.505574"
      ]
     },
     "execution_count": 165,
     "metadata": {},
     "output_type": "execute_result"
    }
   ],
   "source": [
    "dca_end_value"
   ]
  },
  {
   "cell_type": "code",
   "execution_count": 166,
   "metadata": {},
   "outputs": [
    {
     "data": {
      "text/plain": [
       "ADA-USD    5454.481508\n",
       "BTC-USD       0.033460\n",
       "ETH-USD       1.441155\n",
       "LTC-USD       5.952611\n",
       "dtype: float64"
      ]
     },
     "execution_count": 166,
     "metadata": {},
     "output_type": "execute_result"
    }
   ],
   "source": [
    "total_dca_holdings"
   ]
  },
  {
   "cell_type": "code",
   "execution_count": 167,
   "metadata": {},
   "outputs": [
    {
     "data": {
      "text/html": [
       "<div>\n",
       "<style scoped>\n",
       "    .dataframe tbody tr th:only-of-type {\n",
       "        vertical-align: middle;\n",
       "    }\n",
       "\n",
       "    .dataframe tbody tr th {\n",
       "        vertical-align: top;\n",
       "    }\n",
       "\n",
       "    .dataframe thead th {\n",
       "        text-align: right;\n",
       "    }\n",
       "</style>\n",
       "<table border=\"1\" class=\"dataframe\">\n",
       "  <thead>\n",
       "    <tr style=\"text-align: right;\">\n",
       "      <th></th>\n",
       "      <th>ADA-USD</th>\n",
       "      <th>BTC-USD</th>\n",
       "      <th>ETH-USD</th>\n",
       "      <th>LTC-USD</th>\n",
       "    </tr>\n",
       "    <tr>\n",
       "      <th>Date</th>\n",
       "      <th></th>\n",
       "      <th></th>\n",
       "      <th></th>\n",
       "      <th></th>\n",
       "    </tr>\n",
       "  </thead>\n",
       "  <tbody>\n",
       "    <tr>\n",
       "      <th>2020-10-01</th>\n",
       "      <td>0.097878</td>\n",
       "      <td>10623.330078</td>\n",
       "      <td>353.231293</td>\n",
       "      <td>46.283146</td>\n",
       "    </tr>\n",
       "  </tbody>\n",
       "</table>\n",
       "</div>"
      ],
      "text/plain": [
       "             ADA-USD       BTC-USD     ETH-USD    LTC-USD\n",
       "Date                                                     \n",
       "2020-10-01  0.097878  10623.330078  353.231293  46.283146"
      ]
     },
     "execution_count": 167,
     "metadata": {},
     "output_type": "execute_result"
    }
   ],
   "source": [
    "dca_prices_df.tail(1)"
   ]
  },
  {
   "cell_type": "code",
   "execution_count": 168,
   "metadata": {},
   "outputs": [
    {
     "data": {
      "text/plain": [
       "Date\n",
       "2020-10-01    1673.897038\n",
       "dtype: float64"
      ]
     },
     "execution_count": 168,
     "metadata": {},
     "output_type": "execute_result"
    }
   ],
   "source": [
    "dca_end_value.sum(axis=1)"
   ]
  },
  {
   "cell_type": "code",
   "execution_count": 169,
   "metadata": {},
   "outputs": [],
   "source": [
    "dca_total_inv = 1200\n",
    "ending_pl = (dca_end_value.sum(axis=1)-1200) / 1200"
   ]
  },
  {
   "cell_type": "code",
   "execution_count": 170,
   "metadata": {},
   "outputs": [
    {
     "data": {
      "text/plain": [
       "Date\n",
       "2020-10-01    0.394914\n",
       "dtype: float64"
      ]
     },
     "execution_count": 170,
     "metadata": {},
     "output_type": "execute_result"
    }
   ],
   "source": [
    "ending_pl"
   ]
  },
  {
   "cell_type": "code",
   "execution_count": 171,
   "metadata": {},
   "outputs": [
    {
     "data": {
      "text/plain": [
       "<AxesSubplot:xlabel='Date'>"
      ]
     },
     "execution_count": 171,
     "metadata": {},
     "output_type": "execute_result"
    },
    {
     "data": {
      "image/png": "[encoded data removed]",
      "text/plain": [
       "<Figure size 432x288 with 1 Axes>"
      ]
     },
     "metadata": {
      "needs_background": "light"
     },
     "output_type": "display_data"
    }
   ],
   "source": [
    "crypto_df.plot()"
   ]
  },
  {
   "cell_type": "markdown",
   "metadata": {},
   "source": [
    "# DCA Analysis"
   ]
  },
  {
   "cell_type": "markdown",
   "metadata": {},
   "source": [
    "Scenarios:\n",
    "1. DCA BTC\n",
    "    * Every 14 days buy all in BTC<br>\n",
    "2. DCA ETH\n",
    "    * Every 14 days buy all in ETH<br>\n",
    "3. DCA BTC & ETH\n",
    "    * Buy BTC and ETH every 14 days at market price (50/50 split)<br>\n",
    "4. DCA BTC & ETH (Re-balance every month)\n",
    "    * Buy BTC and ETH every 14 days but re-balance so full portfolio is 50/50 split on first of month<br>\n",
    "5. DCA Top 4 (BTC, ETH, ADA, LTC)\n",
    "    * Buy top 4 crypto at market price every 14 days (25% splits)<br>\n",
    "6. DCA Top 4 (BTC, ETH, ADA, LTC)\n",
    "    * Buy top 4 crypto every 14 days but re-balance full portfolio every 1st of month<br>"
   ]
  },
  {
   "cell_type": "code",
   "execution_count": null,
   "metadata": {},
   "outputs": [],
   "source": []
  },
  {
   "cell_type": "markdown",
   "metadata": {},
   "source": [
    "## Setup main price list"
   ]
  },
  {
   "cell_type": "code",
   "execution_count": null,
   "metadata": {},
   "outputs": [],
   "source": []
  },
  {
   "cell_type": "code",
   "execution_count": null,
   "metadata": {},
   "outputs": [],
   "source": []
  },
  {
   "cell_type": "code",
   "execution_count": null,
   "metadata": {},
   "outputs": [],
   "source": []
  },
  {
   "cell_type": "code",
   "execution_count": null,
   "metadata": {},
   "outputs": [],
   "source": []
  },
  {
   "cell_type": "code",
   "execution_count": null,
   "metadata": {},
   "outputs": [],
   "source": []
  },
  {
   "cell_type": "code",
   "execution_count": null,
   "metadata": {},
   "outputs": [],
   "source": []
  },
  {
   "cell_type": "code",
   "execution_count": null,
   "metadata": {},
   "outputs": [],
   "source": []
  },
  {
   "cell_type": "code",
   "execution_count": null,
   "metadata": {},
   "outputs": [],
   "source": []
  },
  {
   "cell_type": "code",
   "execution_count": null,
   "metadata": {},
   "outputs": [],
   "source": []
  }
 ],
 "metadata": {
  "kernelspec": {
   "display_name": "Python 3",
   "language": "python",
   "name": "python3"
  },
  "language_info": {
   "codemirror_mode": {
    "name": "ipython",
    "version": 3
   },
   "file_extension": ".py",
   "mimetype": "text/x-python",
   "name": "python",
   "nbconvert_exporter": "python",
   "pygments_lexer": "ipython3",
   "version": "3.8.5"
  }
 },
 "nbformat": 4,
 "nbformat_minor": 4
}
