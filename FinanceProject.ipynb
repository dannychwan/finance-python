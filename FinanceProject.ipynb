{
 "cells": [
  {
   "cell_type": "code",
   "execution_count": 2,
   "metadata": {},
   "outputs": [],
   "source": [
    "### Finance test python"
   ]
  },
  {
   "cell_type": "code",
   "execution_count": 3,
   "metadata": {},
   "outputs": [
    {
     "data": {
      "text/plain": [
       "'\\nRetreive Data based on a stock\\n'"
      ]
     },
     "execution_count": 3,
     "metadata": {},
     "output_type": "execute_result"
    }
   ],
   "source": [
    "\"\"\"\n",
    "Retreive Data based on a stock\n",
    "\"\"\""
   ]
  },
  {
   "cell_type": "code",
   "execution_count": 4,
   "metadata": {},
   "outputs": [],
   "source": [
    "import pandas as pd\n",
    "import yfinance as yf\n",
    "from yahoofinancials import YahooFinancials\n",
    "from datetime import date\n",
    "import json"
   ]
  },
  {
   "cell_type": "code",
   "execution_count": 7,
   "metadata": {},
   "outputs": [],
   "source": [
    "tsla_df = yf.download('BTC-USD', \n",
    "                      start='2021-01-01', \n",
    "                      end='2021-01-21', \n",
    "                      progress=False)"
   ]
  },
  {
   "cell_type": "code",
   "execution_count": 8,
   "metadata": {},
   "outputs": [
    {
     "data": {
      "text/html": [
       "<div>\n",
       "<style scoped>\n",
       "    .dataframe tbody tr th:only-of-type {\n",
       "        vertical-align: middle;\n",
       "    }\n",
       "\n",
       "    .dataframe tbody tr th {\n",
       "        vertical-align: top;\n",
       "    }\n",
       "\n",
       "    .dataframe thead th {\n",
       "        text-align: right;\n",
       "    }\n",
       "</style>\n",
       "<table border=\"1\" class=\"dataframe\">\n",
       "  <thead>\n",
       "    <tr style=\"text-align: right;\">\n",
       "      <th></th>\n",
       "      <th>Open</th>\n",
       "      <th>High</th>\n",
       "      <th>Low</th>\n",
       "      <th>Close</th>\n",
       "      <th>Adj Close</th>\n",
       "      <th>Volume</th>\n",
       "    </tr>\n",
       "    <tr>\n",
       "      <th>Date</th>\n",
       "      <th></th>\n",
       "      <th></th>\n",
       "      <th></th>\n",
       "      <th></th>\n",
       "      <th></th>\n",
       "      <th></th>\n",
       "    </tr>\n",
       "  </thead>\n",
       "  <tbody>\n",
       "    <tr>\n",
       "      <th>2020-12-31</th>\n",
       "      <td>28841.574219</td>\n",
       "      <td>29244.876953</td>\n",
       "      <td>28201.992188</td>\n",
       "      <td>29001.720703</td>\n",
       "      <td>29001.720703</td>\n",
       "      <td>46754964848</td>\n",
       "    </tr>\n",
       "    <tr>\n",
       "      <th>2021-01-01</th>\n",
       "      <td>28994.009766</td>\n",
       "      <td>29600.626953</td>\n",
       "      <td>28803.585938</td>\n",
       "      <td>29374.152344</td>\n",
       "      <td>29374.152344</td>\n",
       "      <td>40730301359</td>\n",
       "    </tr>\n",
       "    <tr>\n",
       "      <th>2021-01-02</th>\n",
       "      <td>29376.455078</td>\n",
       "      <td>33155.117188</td>\n",
       "      <td>29091.181641</td>\n",
       "      <td>32127.267578</td>\n",
       "      <td>32127.267578</td>\n",
       "      <td>67865420765</td>\n",
       "    </tr>\n",
       "    <tr>\n",
       "      <th>2021-01-03</th>\n",
       "      <td>32129.408203</td>\n",
       "      <td>34608.558594</td>\n",
       "      <td>32052.316406</td>\n",
       "      <td>32782.023438</td>\n",
       "      <td>32782.023438</td>\n",
       "      <td>78665235202</td>\n",
       "    </tr>\n",
       "    <tr>\n",
       "      <th>2021-01-04</th>\n",
       "      <td>32810.949219</td>\n",
       "      <td>33440.218750</td>\n",
       "      <td>28722.755859</td>\n",
       "      <td>31971.914062</td>\n",
       "      <td>31971.914062</td>\n",
       "      <td>81163475344</td>\n",
       "    </tr>\n",
       "  </tbody>\n",
       "</table>\n",
       "</div>"
      ],
      "text/plain": [
       "                    Open          High           Low         Close  \\\n",
       "Date                                                                 \n",
       "2020-12-31  28841.574219  29244.876953  28201.992188  29001.720703   \n",
       "2021-01-01  28994.009766  29600.626953  28803.585938  29374.152344   \n",
       "2021-01-02  29376.455078  33155.117188  29091.181641  32127.267578   \n",
       "2021-01-03  32129.408203  34608.558594  32052.316406  32782.023438   \n",
       "2021-01-04  32810.949219  33440.218750  28722.755859  31971.914062   \n",
       "\n",
       "               Adj Close       Volume  \n",
       "Date                                   \n",
       "2020-12-31  29001.720703  46754964848  \n",
       "2021-01-01  29374.152344  40730301359  \n",
       "2021-01-02  32127.267578  67865420765  \n",
       "2021-01-03  32782.023438  78665235202  \n",
       "2021-01-04  31971.914062  81163475344  "
      ]
     },
     "execution_count": 8,
     "metadata": {},
     "output_type": "execute_result"
    }
   ],
   "source": [
    "tsla_df.head()"
   ]
  },
  {
   "cell_type": "code",
   "execution_count": 9,
   "metadata": {},
   "outputs": [
    {
     "data": {
      "text/plain": [
       "<AxesSubplot:title={'center':\"TSLA's stock price\"}, xlabel='Date'>"
      ]
     },
     "execution_count": 9,
     "metadata": {},
     "output_type": "execute_result"
    },
    {
     "data": {
      "image/png": "[encoded data removed]",
      "text/plain": [
       "<Figure size 432x288 with 1 Axes>"
      ]
     },
     "metadata": {
      "needs_background": "light"
     },
     "output_type": "display_data"
    }
   ],
   "source": [
    "ticker = yf.Ticker('BTC-USD')\n",
    "\n",
    "tsla_df = ticker.history(period=\"max\")\n",
    "\n",
    "tsla_df['Close'].plot(title=\"TSLA's stock price\")"
   ]
  },
  {
   "cell_type": "code",
   "execution_count": 77,
   "metadata": {},
   "outputs": [],
   "source": [
    "yahoo_financials = YahooFinancials('TSLA')\n",
    "\n",
    "data = yahoo_financials.get_historical_price_data(start_date='2021-01-01', \n",
    "                                                  end_date='2021-01-21', \n",
    "                                                  time_interval='daily')\n",
    "\n",
    "tsla_df = pd.DataFrame(data['TSLA']['prices'])\n",
    "#tsla_df = tsla_df.drop('date', axis=1).set_index('formatted_date')\n",
    "#tsla_df.head()"
   ]
  },
  {
   "cell_type": "code",
   "execution_count": 161,
   "metadata": {},
   "outputs": [],
   "source": [
    "#tsla_df\n"
   ]
  },
  {
   "cell_type": "code",
   "execution_count": 17,
   "metadata": {},
   "outputs": [
    {
     "data": {
      "text/html": [
       "<div>\n",
       "<style scoped>\n",
       "    .dataframe tbody tr th:only-of-type {\n",
       "        vertical-align: middle;\n",
       "    }\n",
       "\n",
       "    .dataframe tbody tr th {\n",
       "        vertical-align: top;\n",
       "    }\n",
       "\n",
       "    .dataframe thead th {\n",
       "        text-align: right;\n",
       "    }\n",
       "</style>\n",
       "<table border=\"1\" class=\"dataframe\">\n",
       "  <thead>\n",
       "    <tr style=\"text-align: right;\">\n",
       "      <th></th>\n",
       "      <th>Open</th>\n",
       "      <th>High</th>\n",
       "      <th>Low</th>\n",
       "      <th>Close</th>\n",
       "      <th>Adj Close</th>\n",
       "      <th>Volume</th>\n",
       "    </tr>\n",
       "    <tr>\n",
       "      <th>Date</th>\n",
       "      <th></th>\n",
       "      <th></th>\n",
       "      <th></th>\n",
       "      <th></th>\n",
       "      <th></th>\n",
       "      <th></th>\n",
       "    </tr>\n",
       "  </thead>\n",
       "  <tbody>\n",
       "  </tbody>\n",
       "</table>\n",
       "</div>"
      ],
      "text/plain": [
       "Empty DataFrame\n",
       "Columns: [Open, High, Low, Close, Adj Close, Volume]\n",
       "Index: []"
      ]
     },
     "execution_count": 17,
     "metadata": {},
     "output_type": "execute_result"
    }
   ],
   "source": [
    "msft.balance_sheet"
   ]
  },
  {
   "cell_type": "code",
   "execution_count": 163,
   "metadata": {},
   "outputs": [],
   "source": [
    "yahoo_financials = YahooFinancials('MSFT')\n",
    "data1 = yahoo_financials.get_financial_stmts(frequency='annual', statement_type='income', reformat=True)\n"
   ]
  },
  {
   "cell_type": "code",
   "execution_count": 211,
   "metadata": {},
   "outputs": [],
   "source": [
    "\n",
    "#data1\n",
    "\n",
    "\n",
    "data2 = data1['incomeStatementHistory']['MSFT']\n",
    "\n",
    "testdf = pd.DataFrame.from_dict(data2)\n",
    "\n",
    "\n",
    "#testdf = pd.read_json(data2)\n",
    "#print(json.dumps(data2, indent=4))\n",
    "#\n",
    "#testdf = pd.DataFrame.from_dict(data1['MSFT']['incomeStatementHistory'])\n",
    "\n",
    "\n",
    "#testdf = testdf.set_index('endDate')\n",
    "\n",
    "#msft_df = pd.DataFrame(data1['MSFT']['incomeStatementHistory'])\n",
    "#msft_df.set_index('')\n",
    "#print(json.dumps(data1, indent=4))\n",
    "\n",
    "#testdf =  data1['MSFT']['incomeStatementHistory']\n",
    "#testdf2 = pd.read_json(data1)\n",
    "#testdf = pd.DataFrame.from_dict(pd.json_normalize(data1))\n",
    "#testdf2 = testdf.drop('maxAge', axis=1).set_index('endDate.fmt', drop=True)\n",
    "\n",
    "#print(json.dumps(data1, indent=4))"
   ]
  },
  {
   "cell_type": "code",
   "execution_count": 212,
   "metadata": {},
   "outputs": [
    {
     "data": {
      "text/html": [
       "<div>\n",
       "<style scoped>\n",
       "    .dataframe tbody tr th:only-of-type {\n",
       "        vertical-align: middle;\n",
       "    }\n",
       "\n",
       "    .dataframe tbody tr th {\n",
       "        vertical-align: top;\n",
       "    }\n",
       "\n",
       "    .dataframe thead th {\n",
       "        text-align: right;\n",
       "    }\n",
       "</style>\n",
       "<table border=\"1\" class=\"dataframe\">\n",
       "  <thead>\n",
       "    <tr style=\"text-align: right;\">\n",
       "      <th></th>\n",
       "      <th>2020-06-30</th>\n",
       "      <th>2019-06-30</th>\n",
       "      <th>2018-06-30</th>\n",
       "      <th>2017-06-30</th>\n",
       "    </tr>\n",
       "  </thead>\n",
       "  <tbody>\n",
       "    <tr>\n",
       "      <th>0</th>\n",
       "      <td>{'researchDevelopment': 19269000000, 'effectOf...</td>\n",
       "      <td>NaN</td>\n",
       "      <td>NaN</td>\n",
       "      <td>NaN</td>\n",
       "    </tr>\n",
       "    <tr>\n",
       "      <th>1</th>\n",
       "      <td>NaN</td>\n",
       "      <td>{'researchDevelopment': 16876000000, 'effectOf...</td>\n",
       "      <td>NaN</td>\n",
       "      <td>NaN</td>\n",
       "    </tr>\n",
       "    <tr>\n",
       "      <th>2</th>\n",
       "      <td>NaN</td>\n",
       "      <td>NaN</td>\n",
       "      <td>{'researchDevelopment': 14726000000, 'effectOf...</td>\n",
       "      <td>NaN</td>\n",
       "    </tr>\n",
       "    <tr>\n",
       "      <th>3</th>\n",
       "      <td>NaN</td>\n",
       "      <td>NaN</td>\n",
       "      <td>NaN</td>\n",
       "      <td>{'researchDevelopment': 13037000000, 'effectOf...</td>\n",
       "    </tr>\n",
       "  </tbody>\n",
       "</table>\n",
       "</div>"
      ],
      "text/plain": [
       "                                          2020-06-30  \\\n",
       "0  {'researchDevelopment': 19269000000, 'effectOf...   \n",
       "1                                                NaN   \n",
       "2                                                NaN   \n",
       "3                                                NaN   \n",
       "\n",
       "                                          2019-06-30  \\\n",
       "0                                                NaN   \n",
       "1  {'researchDevelopment': 16876000000, 'effectOf...   \n",
       "2                                                NaN   \n",
       "3                                                NaN   \n",
       "\n",
       "                                          2018-06-30  \\\n",
       "0                                                NaN   \n",
       "1                                                NaN   \n",
       "2  {'researchDevelopment': 14726000000, 'effectOf...   \n",
       "3                                                NaN   \n",
       "\n",
       "                                          2017-06-30  \n",
       "0                                                NaN  \n",
       "1                                                NaN  \n",
       "2                                                NaN  \n",
       "3  {'researchDevelopment': 13037000000, 'effectOf...  "
      ]
     },
     "execution_count": 212,
     "metadata": {},
     "output_type": "execute_result"
    }
   ],
   "source": [
    "testdf"
   ]
  },
  {
   "cell_type": "code",
   "execution_count": 210,
   "metadata": {},
   "outputs": [
    {
     "data": {
      "text/plain": [
       "[{'2020-06-30': {'researchDevelopment': 19269000000,\n",
       "   'effectOfAccountingCharges': None,\n",
       "   'incomeBeforeTax': 53036000000,\n",
       "   'minorityInterest': None,\n",
       "   'netIncome': 44281000000,\n",
       "   'sellingGeneralAdministrative': 24709000000,\n",
       "   'grossProfit': 96937000000,\n",
       "   'ebit': 52959000000,\n",
       "   'operatingIncome': 52959000000,\n",
       "   'otherOperatingExpenses': None,\n",
       "   'interestExpense': -2591000000,\n",
       "   'extraordinaryItems': None,\n",
       "   'nonRecurring': None,\n",
       "   'otherItems': None,\n",
       "   'incomeTaxExpense': 8755000000,\n",
       "   'totalRevenue': 143015000000,\n",
       "   'totalOperatingExpenses': 90056000000,\n",
       "   'costOfRevenue': 46078000000,\n",
       "   'totalOtherIncomeExpenseNet': 77000000,\n",
       "   'discontinuedOperations': None,\n",
       "   'netIncomeFromContinuingOps': 44281000000,\n",
       "   'netIncomeApplicableToCommonShares': 44281000000}},\n",
       " {'2019-06-30': {'researchDevelopment': 16876000000,\n",
       "   'effectOfAccountingCharges': None,\n",
       "   'incomeBeforeTax': 43688000000,\n",
       "   'minorityInterest': None,\n",
       "   'netIncome': 39240000000,\n",
       "   'sellingGeneralAdministrative': 23098000000,\n",
       "   'grossProfit': 82933000000,\n",
       "   'ebit': 42959000000,\n",
       "   'operatingIncome': 42959000000,\n",
       "   'otherOperatingExpenses': None,\n",
       "   'interestExpense': -2686000000,\n",
       "   'extraordinaryItems': None,\n",
       "   'nonRecurring': None,\n",
       "   'otherItems': None,\n",
       "   'incomeTaxExpense': 4448000000,\n",
       "   'totalRevenue': 125843000000,\n",
       "   'totalOperatingExpenses': 82884000000,\n",
       "   'costOfRevenue': 42910000000,\n",
       "   'totalOtherIncomeExpenseNet': 729000000,\n",
       "   'discontinuedOperations': None,\n",
       "   'netIncomeFromContinuingOps': 39240000000,\n",
       "   'netIncomeApplicableToCommonShares': 39240000000}},\n",
       " {'2018-06-30': {'researchDevelopment': 14726000000,\n",
       "   'effectOfAccountingCharges': None,\n",
       "   'incomeBeforeTax': 36474000000,\n",
       "   'minorityInterest': None,\n",
       "   'netIncome': 16571000000,\n",
       "   'sellingGeneralAdministrative': 22223000000,\n",
       "   'grossProfit': 72007000000,\n",
       "   'ebit': 35058000000,\n",
       "   'operatingIncome': 35058000000,\n",
       "   'otherOperatingExpenses': None,\n",
       "   'interestExpense': -2733000000,\n",
       "   'extraordinaryItems': None,\n",
       "   'nonRecurring': None,\n",
       "   'otherItems': None,\n",
       "   'incomeTaxExpense': 19903000000,\n",
       "   'totalRevenue': 110360000000,\n",
       "   'totalOperatingExpenses': 75302000000,\n",
       "   'costOfRevenue': 38353000000,\n",
       "   'totalOtherIncomeExpenseNet': 1416000000,\n",
       "   'discontinuedOperations': None,\n",
       "   'netIncomeFromContinuingOps': 16571000000,\n",
       "   'netIncomeApplicableToCommonShares': 16571000000}},\n",
       " {'2017-06-30': {'researchDevelopment': 13037000000,\n",
       "   'effectOfAccountingCharges': None,\n",
       "   'incomeBeforeTax': 29901000000,\n",
       "   'minorityInterest': None,\n",
       "   'netIncome': 25489000000,\n",
       "   'sellingGeneralAdministrative': 19942000000,\n",
       "   'grossProfit': 62310000000,\n",
       "   'ebit': 29331000000,\n",
       "   'operatingIncome': 29331000000,\n",
       "   'otherOperatingExpenses': None,\n",
       "   'interestExpense': -2222000000,\n",
       "   'extraordinaryItems': None,\n",
       "   'nonRecurring': None,\n",
       "   'otherItems': None,\n",
       "   'incomeTaxExpense': 4412000000,\n",
       "   'totalRevenue': 96571000000,\n",
       "   'totalOperatingExpenses': 67240000000,\n",
       "   'costOfRevenue': 34261000000,\n",
       "   'totalOtherIncomeExpenseNet': 570000000,\n",
       "   'discontinuedOperations': None,\n",
       "   'netIncomeFromContinuingOps': 25489000000,\n",
       "   'netIncomeApplicableToCommonShares': 25489000000}}]"
      ]
     },
     "execution_count": 210,
     "metadata": {},
     "output_type": "execute_result"
    }
   ],
   "source": [
    "data2"
   ]
  },
  {
   "cell_type": "code",
   "execution_count": null,
   "metadata": {},
   "outputs": [],
   "source": []
  }
 ],
 "metadata": {
  "kernelspec": {
   "display_name": "Python 3",
   "language": "python",
   "name": "python3"
  },
  "language_info": {
   "codemirror_mode": {
    "name": "ipython",
    "version": 3
   },
   "file_extension": ".py",
   "mimetype": "text/x-python",
   "name": "python",
   "nbconvert_exporter": "python",
   "pygments_lexer": "ipython3",
   "version": "3.8.5"
  }
 },
 "nbformat": 4,
 "nbformat_minor": 4
}
