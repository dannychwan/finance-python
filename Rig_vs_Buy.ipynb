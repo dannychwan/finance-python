{
 "cells": [
  {
   "cell_type": "markdown",
   "metadata": {},
   "source": [
    "# GPU Mining Rig vs. Buying Crypto"
   ]
  },
  {
   "cell_type": "markdown",
   "metadata": {},
   "source": [
    "Analysis on whether holding a mining rig is more profitable than just buying the crypto asset. <br>\n",
    "1. Calculate the cost of mining rig. Price and Hashing Power<br>\n",
    "2. Calculate the over time how much profit the rig can make<br>\n",
    "    2.1 Calculate historical mining profitability<br>\n",
    "    2."
   ]
  },
  {
   "cell_type": "code",
   "execution_count": null,
   "metadata": {},
   "outputs": [],
   "source": []
  },
  {
   "cell_type": "code",
   "execution_count": null,
   "metadata": {},
   "outputs": [],
   "source": [
    "rig_hash_power = 100"
   ]
  },
  {
   "cell_type": "code",
   "execution_count": 64,
   "metadata": {},
   "outputs": [
    {
     "name": "stdout",
     "output_type": "stream",
     "text": [
      "The autoreload extension is already loaded. To reload it, use:\n",
      "  %reload_ext autoreload\n"
     ]
    }
   ],
   "source": [
    "#Clean eth_mining_probitability.txt\n",
    "\n",
    "\n",
    "%load_ext autoreload\n",
    "%autoreload 2\n",
    "\n",
    "import pandas as pd\n",
    "import numpy as np\n",
    "import yfinance as yf\n",
    "from yahoofinancials import YahooFinancials\n",
    "from datetime import datetime, timedelta\n",
    "from dateutil.relativedelta import relativedelta\n",
    "import json\n",
    "from io import StringIO\n",
    "import matplotlib.pyplot as plt"
   ]
  },
  {
   "cell_type": "code",
   "execution_count": null,
   "metadata": {},
   "outputs": [],
   "source": []
  },
  {
   "cell_type": "code",
   "execution_count": 3,
   "metadata": {},
   "outputs": [],
   "source": [
    "\n",
    "stri = open('data/eth_mining_profitability.txt', 'r').read()\n",
    "\n",
    "stri = stri.replace('new Date(\"',\"\")\n",
    "stri = stri.replace('\")',\"\")\n",
    "stri = stri.replace(\"],[\", \"\\n\")\n",
    "stri = stri.replace(\"[\", \"\")\n",
    "stri = stri.replace(\"]\", \"\")\n"
   ]
  },
  {
   "cell_type": "code",
   "execution_count": 4,
   "metadata": {},
   "outputs": [],
   "source": [
    "\n",
    "df = pd.read_csv(StringIO(stri), index_col=0, header=None)\n",
    "df = df.rename(columns={1 : \"USD per MH\"})\n",
    "df.index.names = ['Date']\n",
    "df.index = pd.to_datetime(df.index)\n"
   ]
  },
  {
   "cell_type": "code",
   "execution_count": 5,
   "metadata": {},
   "outputs": [],
   "source": [
    "eth_min_prof_df = df"
   ]
  },
  {
   "cell_type": "code",
   "execution_count": 6,
   "metadata": {},
   "outputs": [
    {
     "data": {
      "text/html": [
       "<div>\n",
       "<style scoped>\n",
       "    .dataframe tbody tr th:only-of-type {\n",
       "        vertical-align: middle;\n",
       "    }\n",
       "\n",
       "    .dataframe tbody tr th {\n",
       "        vertical-align: top;\n",
       "    }\n",
       "\n",
       "    .dataframe thead th {\n",
       "        text-align: right;\n",
       "    }\n",
       "</style>\n",
       "<table border=\"1\" class=\"dataframe\">\n",
       "  <thead>\n",
       "    <tr style=\"text-align: right;\">\n",
       "      <th></th>\n",
       "      <th>USD per MH</th>\n",
       "    </tr>\n",
       "    <tr>\n",
       "      <th>Date</th>\n",
       "      <th></th>\n",
       "    </tr>\n",
       "  </thead>\n",
       "  <tbody>\n",
       "    <tr>\n",
       "      <th>2015-07-30</th>\n",
       "      <td>9.3550</td>\n",
       "    </tr>\n",
       "    <tr>\n",
       "      <th>2015-07-31</th>\n",
       "      <td>2.1920</td>\n",
       "    </tr>\n",
       "    <tr>\n",
       "      <th>2015-08-01</th>\n",
       "      <td>1.4420</td>\n",
       "    </tr>\n",
       "    <tr>\n",
       "      <th>2015-08-02</th>\n",
       "      <td>1.0220</td>\n",
       "    </tr>\n",
       "    <tr>\n",
       "      <th>2015-08-03</th>\n",
       "      <td>0.9310</td>\n",
       "    </tr>\n",
       "    <tr>\n",
       "      <th>...</th>\n",
       "      <td>...</td>\n",
       "    </tr>\n",
       "    <tr>\n",
       "      <th>2021-01-30</th>\n",
       "      <td>0.0866</td>\n",
       "    </tr>\n",
       "    <tr>\n",
       "      <th>2021-01-31</th>\n",
       "      <td>0.0903</td>\n",
       "    </tr>\n",
       "    <tr>\n",
       "      <th>2021-02-01</th>\n",
       "      <td>0.0934</td>\n",
       "    </tr>\n",
       "    <tr>\n",
       "      <th>2021-02-02</th>\n",
       "      <td>0.1080</td>\n",
       "    </tr>\n",
       "    <tr>\n",
       "      <th>2021-02-03</th>\n",
       "      <td>0.1190</td>\n",
       "    </tr>\n",
       "  </tbody>\n",
       "</table>\n",
       "<p>2016 rows × 1 columns</p>\n",
       "</div>"
      ],
      "text/plain": [
       "            USD per MH\n",
       "Date                  \n",
       "2015-07-30      9.3550\n",
       "2015-07-31      2.1920\n",
       "2015-08-01      1.4420\n",
       "2015-08-02      1.0220\n",
       "2015-08-03      0.9310\n",
       "...                ...\n",
       "2021-01-30      0.0866\n",
       "2021-01-31      0.0903\n",
       "2021-02-01      0.0934\n",
       "2021-02-02      0.1080\n",
       "2021-02-03      0.1190\n",
       "\n",
       "[2016 rows x 1 columns]"
      ]
     },
     "execution_count": 6,
     "metadata": {},
     "output_type": "execute_result"
    }
   ],
   "source": [
    "eth_min_prof_df"
   ]
  },
  {
   "cell_type": "code",
   "execution_count": null,
   "metadata": {},
   "outputs": [],
   "source": []
  },
  {
   "cell_type": "code",
   "execution_count": 7,
   "metadata": {},
   "outputs": [],
   "source": [
    "#drop 2015\n",
    "eth_min_prof_df = eth_min_prof_df.drop(eth_min_prof_df.loc['2015'].index)"
   ]
  },
  {
   "cell_type": "code",
   "execution_count": 8,
   "metadata": {},
   "outputs": [],
   "source": [
    "\n",
    "\n",
    "eth_min_prof_df['Day Profit'] = eth_min_prof_df['USD per MH'] * rig_hash_power\n",
    "#eth_min_prof_df['ETH Profit'] = "
   ]
  },
  {
   "cell_type": "code",
   "execution_count": 9,
   "metadata": {},
   "outputs": [
    {
     "data": {
      "text/html": [
       "<div>\n",
       "<style scoped>\n",
       "    .dataframe tbody tr th:only-of-type {\n",
       "        vertical-align: middle;\n",
       "    }\n",
       "\n",
       "    .dataframe tbody tr th {\n",
       "        vertical-align: top;\n",
       "    }\n",
       "\n",
       "    .dataframe thead th {\n",
       "        text-align: right;\n",
       "    }\n",
       "</style>\n",
       "<table border=\"1\" class=\"dataframe\">\n",
       "  <thead>\n",
       "    <tr style=\"text-align: right;\">\n",
       "      <th></th>\n",
       "      <th>USD per MH</th>\n",
       "      <th>Day Profit</th>\n",
       "    </tr>\n",
       "    <tr>\n",
       "      <th>Date</th>\n",
       "      <th></th>\n",
       "      <th></th>\n",
       "    </tr>\n",
       "  </thead>\n",
       "  <tbody>\n",
       "    <tr>\n",
       "      <th>2016-01-01</th>\n",
       "      <td>0.0476</td>\n",
       "      <td>4.76</td>\n",
       "    </tr>\n",
       "    <tr>\n",
       "      <th>2016-01-02</th>\n",
       "      <td>0.0501</td>\n",
       "      <td>5.01</td>\n",
       "    </tr>\n",
       "    <tr>\n",
       "      <th>2016-01-03</th>\n",
       "      <td>0.0498</td>\n",
       "      <td>4.98</td>\n",
       "    </tr>\n",
       "    <tr>\n",
       "      <th>2016-01-04</th>\n",
       "      <td>0.0493</td>\n",
       "      <td>4.93</td>\n",
       "    </tr>\n",
       "    <tr>\n",
       "      <th>2016-01-05</th>\n",
       "      <td>0.0496</td>\n",
       "      <td>4.96</td>\n",
       "    </tr>\n",
       "    <tr>\n",
       "      <th>...</th>\n",
       "      <td>...</td>\n",
       "      <td>...</td>\n",
       "    </tr>\n",
       "    <tr>\n",
       "      <th>2021-01-30</th>\n",
       "      <td>0.0866</td>\n",
       "      <td>8.66</td>\n",
       "    </tr>\n",
       "    <tr>\n",
       "      <th>2021-01-31</th>\n",
       "      <td>0.0903</td>\n",
       "      <td>9.03</td>\n",
       "    </tr>\n",
       "    <tr>\n",
       "      <th>2021-02-01</th>\n",
       "      <td>0.0934</td>\n",
       "      <td>9.34</td>\n",
       "    </tr>\n",
       "    <tr>\n",
       "      <th>2021-02-02</th>\n",
       "      <td>0.1080</td>\n",
       "      <td>10.80</td>\n",
       "    </tr>\n",
       "    <tr>\n",
       "      <th>2021-02-03</th>\n",
       "      <td>0.1190</td>\n",
       "      <td>11.90</td>\n",
       "    </tr>\n",
       "  </tbody>\n",
       "</table>\n",
       "<p>1861 rows × 2 columns</p>\n",
       "</div>"
      ],
      "text/plain": [
       "            USD per MH  Day Profit\n",
       "Date                              \n",
       "2016-01-01      0.0476        4.76\n",
       "2016-01-02      0.0501        5.01\n",
       "2016-01-03      0.0498        4.98\n",
       "2016-01-04      0.0493        4.93\n",
       "2016-01-05      0.0496        4.96\n",
       "...                ...         ...\n",
       "2021-01-30      0.0866        8.66\n",
       "2021-01-31      0.0903        9.03\n",
       "2021-02-01      0.0934        9.34\n",
       "2021-02-02      0.1080       10.80\n",
       "2021-02-03      0.1190       11.90\n",
       "\n",
       "[1861 rows x 2 columns]"
      ]
     },
     "execution_count": 9,
     "metadata": {},
     "output_type": "execute_result"
    }
   ],
   "source": [
    "eth_min_prof_df"
   ]
  },
  {
   "cell_type": "code",
   "execution_count": null,
   "metadata": {},
   "outputs": [],
   "source": []
  },
  {
   "cell_type": "code",
   "execution_count": null,
   "metadata": {},
   "outputs": [],
   "source": []
  },
  {
   "cell_type": "code",
   "execution_count": 10,
   "metadata": {},
   "outputs": [
    {
     "name": "stdout",
     "output_type": "stream",
     "text": [
      "[*********************100%***********************]  1 of 1 completed\n"
     ]
    }
   ],
   "source": [
    "#get prices for period\n",
    "\n",
    "yf_startDate = eth_min_prof_df.index[0].strftime(\"%Y-%m-%d\")\n",
    "yf_endDate = eth_min_prof_df.index[-1].strftime(\"%Y-%m-%d\")\n",
    "crypto_df = yf.download('ETH-USD', \n",
    "                      start=yf_startDate, \n",
    "                      end=yf_endDate,\n",
    "                        auto_adjust=True)\n",
    "\n",
    "\n",
    "crypto_df = crypto_df.drop(columns=['Open', 'Volume', 'High', 'Low'])\n",
    "crypto_df.columns = ['ETH-USD']"
   ]
  },
  {
   "cell_type": "code",
   "execution_count": 11,
   "metadata": {},
   "outputs": [
    {
     "data": {
      "text/html": [
       "<div>\n",
       "<style scoped>\n",
       "    .dataframe tbody tr th:only-of-type {\n",
       "        vertical-align: middle;\n",
       "    }\n",
       "\n",
       "    .dataframe tbody tr th {\n",
       "        vertical-align: top;\n",
       "    }\n",
       "\n",
       "    .dataframe thead th {\n",
       "        text-align: right;\n",
       "    }\n",
       "</style>\n",
       "<table border=\"1\" class=\"dataframe\">\n",
       "  <thead>\n",
       "    <tr style=\"text-align: right;\">\n",
       "      <th></th>\n",
       "      <th>ETH-USD</th>\n",
       "    </tr>\n",
       "    <tr>\n",
       "      <th>Date</th>\n",
       "      <th></th>\n",
       "    </tr>\n",
       "  </thead>\n",
       "  <tbody>\n",
       "    <tr>\n",
       "      <th>2015-12-31</th>\n",
       "      <td>0.933542</td>\n",
       "    </tr>\n",
       "    <tr>\n",
       "      <th>2016-01-01</th>\n",
       "      <td>0.948024</td>\n",
       "    </tr>\n",
       "    <tr>\n",
       "      <th>2016-01-02</th>\n",
       "      <td>0.937124</td>\n",
       "    </tr>\n",
       "    <tr>\n",
       "      <th>2016-01-03</th>\n",
       "      <td>0.971905</td>\n",
       "    </tr>\n",
       "    <tr>\n",
       "      <th>2016-01-04</th>\n",
       "      <td>0.954480</td>\n",
       "    </tr>\n",
       "    <tr>\n",
       "      <th>...</th>\n",
       "      <td>...</td>\n",
       "    </tr>\n",
       "    <tr>\n",
       "      <th>2021-01-29</th>\n",
       "      <td>1382.522827</td>\n",
       "    </tr>\n",
       "    <tr>\n",
       "      <th>2021-01-30</th>\n",
       "      <td>1376.115479</td>\n",
       "    </tr>\n",
       "    <tr>\n",
       "      <th>2021-01-31</th>\n",
       "      <td>1314.986206</td>\n",
       "    </tr>\n",
       "    <tr>\n",
       "      <th>2021-02-01</th>\n",
       "      <td>1369.040527</td>\n",
       "    </tr>\n",
       "    <tr>\n",
       "      <th>2021-02-02</th>\n",
       "      <td>1515.193726</td>\n",
       "    </tr>\n",
       "  </tbody>\n",
       "</table>\n",
       "<p>1857 rows × 1 columns</p>\n",
       "</div>"
      ],
      "text/plain": [
       "                ETH-USD\n",
       "Date                   \n",
       "2015-12-31     0.933542\n",
       "2016-01-01     0.948024\n",
       "2016-01-02     0.937124\n",
       "2016-01-03     0.971905\n",
       "2016-01-04     0.954480\n",
       "...                 ...\n",
       "2021-01-29  1382.522827\n",
       "2021-01-30  1376.115479\n",
       "2021-01-31  1314.986206\n",
       "2021-02-01  1369.040527\n",
       "2021-02-02  1515.193726\n",
       "\n",
       "[1857 rows x 1 columns]"
      ]
     },
     "execution_count": 11,
     "metadata": {},
     "output_type": "execute_result"
    }
   ],
   "source": [
    "crypto_df.shift(0)"
   ]
  },
  {
   "cell_type": "code",
   "execution_count": 45,
   "metadata": {},
   "outputs": [],
   "source": [
    "eth_min_prof_df['ETH per MH'] = eth_min_prof_df['USD per MH'] / crypto_df['ETH-USD']\n",
    "eth_min_prof_df['ETH Mined'] = eth_min_prof_df['ETH per MH'] * rig_hash_power"
   ]
  },
  {
   "cell_type": "code",
   "execution_count": 46,
   "metadata": {},
   "outputs": [],
   "source": [
    "subset_df = eth_min_prof_df.dropna()\n",
    "subset_df = subset_df.loc['2017-07-01' :]"
   ]
  },
  {
   "cell_type": "code",
   "execution_count": 47,
   "metadata": {},
   "outputs": [],
   "source": [
    "ifconvertdailyUSD = eth_min_prof_df.loc[yf_startDate :]['Day Profit'].sum()\n",
    "total_eth_mined = subset_df['ETH Mined'].sum()\n",
    "total_ethusd_mined = total_eth_mined * crypto_df.tail(1)\n",
    "total_ethusd_mined = total_ethusd_mined.iloc[0]['ETH-USD']\n",
    "\n"
   ]
  },
  {
   "cell_type": "code",
   "execution_count": 48,
   "metadata": {},
   "outputs": [
    {
     "name": "stdout",
     "output_type": "stream",
     "text": [
      "Total ETH Mined = 13.38\n",
      "USD Equivalent (2021-02-02) = 20266.2\n"
     ]
    }
   ],
   "source": [
    "print(\"Total ETH Mined = \" + str(total_eth_mined.round(2)))\n",
    "print(\"USD Equivalent (\" + str(crypto_df.index[-1].strftime(\"%Y-%m-%d\")) + \") = \" + str(total_ethusd_mined.round(2)))"
   ]
  },
  {
   "cell_type": "code",
   "execution_count": 49,
   "metadata": {},
   "outputs": [],
   "source": [
    "amt_buy_eth = 2000 / crypto_df.loc['2017-07-01']['ETH-USD']"
   ]
  },
  {
   "cell_type": "code",
   "execution_count": 50,
   "metadata": {},
   "outputs": [
    {
     "name": "stdout",
     "output_type": "stream",
     "text": [
      "Amount of ETH for US$2000 on '2017-07-01' = 7.28\n",
      "USD Equivalent (2021-02-02) = 11035.6\n"
     ]
    }
   ],
   "source": [
    "print(\"Amount of ETH for US$2000 on '2017-07-01' = \" + str(amt_buy_eth.round(2)))\n",
    "amt_buy_eth_hold_USD = amt_buy_eth * crypto_df.tail(1)\n",
    "amt_buy_eth_hold_USD = amt_buy_eth_hold_USD.iloc[0]['ETH-USD']\n",
    "print(\"USD Equivalent (\" + str(crypto_df.index[-1].strftime(\"%Y-%m-%d\")) + \") = \" + str(amt_buy_eth_hold_USD.round(2)))"
   ]
  },
  {
   "cell_type": "code",
   "execution_count": 53,
   "metadata": {},
   "outputs": [],
   "source": [
    "subset_df\n",
    "subset_df['Day Profit (Cum)'] = subset_df['Day Profit'].cumsum()"
   ]
  },
  {
   "cell_type": "code",
   "execution_count": 69,
   "metadata": {},
   "outputs": [],
   "source": [
    "\n",
    "#subset_df['Day Profit (Cum)'].plot(color='r')"
   ]
  },
  {
   "cell_type": "code",
   "execution_count": 70,
   "metadata": {},
   "outputs": [],
   "source": [
    "breakeven_df = subset_df.loc[subset_df['Day Profit (Cum)'] > 2000]"
   ]
  },
  {
   "cell_type": "code",
   "execution_count": 71,
   "metadata": {},
   "outputs": [
    {
     "data": {
      "text/html": [
       "<div>\n",
       "<style scoped>\n",
       "    .dataframe tbody tr th:only-of-type {\n",
       "        vertical-align: middle;\n",
       "    }\n",
       "\n",
       "    .dataframe tbody tr th {\n",
       "        vertical-align: top;\n",
       "    }\n",
       "\n",
       "    .dataframe thead th {\n",
       "        text-align: right;\n",
       "    }\n",
       "</style>\n",
       "<table border=\"1\" class=\"dataframe\">\n",
       "  <thead>\n",
       "    <tr style=\"text-align: right;\">\n",
       "      <th></th>\n",
       "      <th>USD per MH</th>\n",
       "      <th>Day Profit</th>\n",
       "      <th>ETH per MH</th>\n",
       "      <th>ETH Mined</th>\n",
       "      <th>Day Profit (Cum)</th>\n",
       "    </tr>\n",
       "    <tr>\n",
       "      <th>Date</th>\n",
       "      <th></th>\n",
       "      <th></th>\n",
       "      <th></th>\n",
       "      <th></th>\n",
       "      <th></th>\n",
       "    </tr>\n",
       "  </thead>\n",
       "  <tbody>\n",
       "    <tr>\n",
       "      <th>2018-03-21</th>\n",
       "      <td>0.0448</td>\n",
       "      <td>4.48</td>\n",
       "      <td>0.000080</td>\n",
       "      <td>0.007975</td>\n",
       "      <td>2000.890</td>\n",
       "    </tr>\n",
       "    <tr>\n",
       "      <th>2018-03-22</th>\n",
       "      <td>0.0436</td>\n",
       "      <td>4.36</td>\n",
       "      <td>0.000081</td>\n",
       "      <td>0.008079</td>\n",
       "      <td>2005.250</td>\n",
       "    </tr>\n",
       "    <tr>\n",
       "      <th>2018-03-23</th>\n",
       "      <td>0.0410</td>\n",
       "      <td>4.10</td>\n",
       "      <td>0.000076</td>\n",
       "      <td>0.007598</td>\n",
       "      <td>2009.350</td>\n",
       "    </tr>\n",
       "    <tr>\n",
       "      <th>2018-03-24</th>\n",
       "      <td>0.0428</td>\n",
       "      <td>4.28</td>\n",
       "      <td>0.000081</td>\n",
       "      <td>0.008130</td>\n",
       "      <td>2013.630</td>\n",
       "    </tr>\n",
       "    <tr>\n",
       "      <th>2018-03-25</th>\n",
       "      <td>0.0409</td>\n",
       "      <td>4.09</td>\n",
       "      <td>0.000078</td>\n",
       "      <td>0.007801</td>\n",
       "      <td>2017.720</td>\n",
       "    </tr>\n",
       "    <tr>\n",
       "      <th>...</th>\n",
       "      <td>...</td>\n",
       "      <td>...</td>\n",
       "      <td>...</td>\n",
       "      <td>...</td>\n",
       "      <td>...</td>\n",
       "    </tr>\n",
       "    <tr>\n",
       "      <th>2021-01-29</th>\n",
       "      <td>0.0955</td>\n",
       "      <td>9.55</td>\n",
       "      <td>0.000069</td>\n",
       "      <td>0.006908</td>\n",
       "      <td>4547.964</td>\n",
       "    </tr>\n",
       "    <tr>\n",
       "      <th>2021-01-30</th>\n",
       "      <td>0.0866</td>\n",
       "      <td>8.66</td>\n",
       "      <td>0.000063</td>\n",
       "      <td>0.006293</td>\n",
       "      <td>4556.624</td>\n",
       "    </tr>\n",
       "    <tr>\n",
       "      <th>2021-01-31</th>\n",
       "      <td>0.0903</td>\n",
       "      <td>9.03</td>\n",
       "      <td>0.000069</td>\n",
       "      <td>0.006867</td>\n",
       "      <td>4565.654</td>\n",
       "    </tr>\n",
       "    <tr>\n",
       "      <th>2021-02-01</th>\n",
       "      <td>0.0934</td>\n",
       "      <td>9.34</td>\n",
       "      <td>0.000068</td>\n",
       "      <td>0.006822</td>\n",
       "      <td>4574.994</td>\n",
       "    </tr>\n",
       "    <tr>\n",
       "      <th>2021-02-02</th>\n",
       "      <td>0.1080</td>\n",
       "      <td>10.80</td>\n",
       "      <td>0.000071</td>\n",
       "      <td>0.007128</td>\n",
       "      <td>4585.794</td>\n",
       "    </tr>\n",
       "  </tbody>\n",
       "</table>\n",
       "<p>1046 rows × 5 columns</p>\n",
       "</div>"
      ],
      "text/plain": [
       "            USD per MH  Day Profit  ETH per MH  ETH Mined  Day Profit (Cum)\n",
       "Date                                                                       \n",
       "2018-03-21      0.0448        4.48    0.000080   0.007975          2000.890\n",
       "2018-03-22      0.0436        4.36    0.000081   0.008079          2005.250\n",
       "2018-03-23      0.0410        4.10    0.000076   0.007598          2009.350\n",
       "2018-03-24      0.0428        4.28    0.000081   0.008130          2013.630\n",
       "2018-03-25      0.0409        4.09    0.000078   0.007801          2017.720\n",
       "...                ...         ...         ...        ...               ...\n",
       "2021-01-29      0.0955        9.55    0.000069   0.006908          4547.964\n",
       "2021-01-30      0.0866        8.66    0.000063   0.006293          4556.624\n",
       "2021-01-31      0.0903        9.03    0.000069   0.006867          4565.654\n",
       "2021-02-01      0.0934        9.34    0.000068   0.006822          4574.994\n",
       "2021-02-02      0.1080       10.80    0.000071   0.007128          4585.794\n",
       "\n",
       "[1046 rows x 5 columns]"
      ]
     },
     "execution_count": 71,
     "metadata": {},
     "output_type": "execute_result"
    }
   ],
   "source": [
    "breakeven_df"
   ]
  },
  {
   "cell_type": "code",
   "execution_count": null,
   "metadata": {},
   "outputs": [],
   "source": []
  }
 ],
 "metadata": {
  "kernelspec": {
   "display_name": "Python 3",
   "language": "python",
   "name": "python3"
  },
  "language_info": {
   "codemirror_mode": {
    "name": "ipython",
    "version": 3
   },
   "file_extension": ".py",
   "mimetype": "text/x-python",
   "name": "python",
   "nbconvert_exporter": "python",
   "pygments_lexer": "ipython3",
   "version": "3.8.5"
  }
 },
 "nbformat": 4,
 "nbformat_minor": 4
}
